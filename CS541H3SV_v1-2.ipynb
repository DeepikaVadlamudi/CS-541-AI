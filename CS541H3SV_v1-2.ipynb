{
  "nbformat": 4,
  "nbformat_minor": 0,
  "metadata": {
    "colab": {
      "name": "CS541H3SV_v1.ipynb",
      "provenance": [],
      "collapsed_sections": []
    },
    "kernelspec": {
      "name": "python3",
      "display_name": "Python 3"
    }
  },
  "cells": [
    {
      "cell_type": "markdown",
      "metadata": {
        "id": "vxnRXJ6Jf3qd"
      },
      "source": [
        "# 0. Importing all necessary libraries and packages."
      ]
    },
    {
      "cell_type": "code",
      "metadata": {
        "id": "qEtEC6NZ-7UM"
      },
      "source": [
        "#importing the required libraries\n",
        "import matplotlib.pyplot as plt\n",
        "import numpy as np \n",
        "import pandas as pd\n",
        "from sklearn.model_selection import train_test_split\n",
        "import math"
      ],
      "execution_count": 1,
      "outputs": []
    },
    {
      "cell_type": "markdown",
      "metadata": {
        "id": "10jhxoVTf_Kl"
      },
      "source": [
        "# 1. Importing data and all necessary data preprocessing\n"
      ]
    },
    {
      "cell_type": "code",
      "metadata": {
        "colab": {
          "base_uri": "https://localhost:8080/",
          "height": 195
        },
        "id": "jRP0p1nj_scC",
        "outputId": "e6d837ce-d3df-42da-b83d-05752ae401d4"
      },
      "source": [
        "data = pd.read_csv('/content/ratings.csv')\n",
        "data.head(5)"
      ],
      "execution_count": 2,
      "outputs": [
        {
          "output_type": "execute_result",
          "data": {
            "text/html": [
              "<div>\n",
              "<style scoped>\n",
              "    .dataframe tbody tr th:only-of-type {\n",
              "        vertical-align: middle;\n",
              "    }\n",
              "\n",
              "    .dataframe tbody tr th {\n",
              "        vertical-align: top;\n",
              "    }\n",
              "\n",
              "    .dataframe thead th {\n",
              "        text-align: right;\n",
              "    }\n",
              "</style>\n",
              "<table border=\"1\" class=\"dataframe\">\n",
              "  <thead>\n",
              "    <tr style=\"text-align: right;\">\n",
              "      <th></th>\n",
              "      <th>userId</th>\n",
              "      <th>movieId</th>\n",
              "      <th>rating</th>\n",
              "      <th>timestamp</th>\n",
              "    </tr>\n",
              "  </thead>\n",
              "  <tbody>\n",
              "    <tr>\n",
              "      <th>0</th>\n",
              "      <td>1</td>\n",
              "      <td>1</td>\n",
              "      <td>4.0</td>\n",
              "      <td>964982703</td>\n",
              "    </tr>\n",
              "    <tr>\n",
              "      <th>1</th>\n",
              "      <td>1</td>\n",
              "      <td>3</td>\n",
              "      <td>4.0</td>\n",
              "      <td>964981247</td>\n",
              "    </tr>\n",
              "    <tr>\n",
              "      <th>2</th>\n",
              "      <td>1</td>\n",
              "      <td>6</td>\n",
              "      <td>4.0</td>\n",
              "      <td>964982224</td>\n",
              "    </tr>\n",
              "    <tr>\n",
              "      <th>3</th>\n",
              "      <td>1</td>\n",
              "      <td>47</td>\n",
              "      <td>5.0</td>\n",
              "      <td>964983815</td>\n",
              "    </tr>\n",
              "    <tr>\n",
              "      <th>4</th>\n",
              "      <td>1</td>\n",
              "      <td>50</td>\n",
              "      <td>5.0</td>\n",
              "      <td>964982931</td>\n",
              "    </tr>\n",
              "  </tbody>\n",
              "</table>\n",
              "</div>"
            ],
            "text/plain": [
              "   userId  movieId  rating  timestamp\n",
              "0       1        1     4.0  964982703\n",
              "1       1        3     4.0  964981247\n",
              "2       1        6     4.0  964982224\n",
              "3       1       47     5.0  964983815\n",
              "4       1       50     5.0  964982931"
            ]
          },
          "metadata": {
            "tags": []
          },
          "execution_count": 2
        }
      ]
    },
    {
      "cell_type": "code",
      "metadata": {
        "colab": {
          "base_uri": "https://localhost:8080/",
          "height": 402
        },
        "id": "U1xUpNq6_zJ0",
        "outputId": "963354c9-f212-4cd8-8003-052fa25e738e"
      },
      "source": [
        "data.drop(columns='timestamp')"
      ],
      "execution_count": 3,
      "outputs": [
        {
          "output_type": "execute_result",
          "data": {
            "text/html": [
              "<div>\n",
              "<style scoped>\n",
              "    .dataframe tbody tr th:only-of-type {\n",
              "        vertical-align: middle;\n",
              "    }\n",
              "\n",
              "    .dataframe tbody tr th {\n",
              "        vertical-align: top;\n",
              "    }\n",
              "\n",
              "    .dataframe thead th {\n",
              "        text-align: right;\n",
              "    }\n",
              "</style>\n",
              "<table border=\"1\" class=\"dataframe\">\n",
              "  <thead>\n",
              "    <tr style=\"text-align: right;\">\n",
              "      <th></th>\n",
              "      <th>userId</th>\n",
              "      <th>movieId</th>\n",
              "      <th>rating</th>\n",
              "    </tr>\n",
              "  </thead>\n",
              "  <tbody>\n",
              "    <tr>\n",
              "      <th>0</th>\n",
              "      <td>1</td>\n",
              "      <td>1</td>\n",
              "      <td>4.0</td>\n",
              "    </tr>\n",
              "    <tr>\n",
              "      <th>1</th>\n",
              "      <td>1</td>\n",
              "      <td>3</td>\n",
              "      <td>4.0</td>\n",
              "    </tr>\n",
              "    <tr>\n",
              "      <th>2</th>\n",
              "      <td>1</td>\n",
              "      <td>6</td>\n",
              "      <td>4.0</td>\n",
              "    </tr>\n",
              "    <tr>\n",
              "      <th>3</th>\n",
              "      <td>1</td>\n",
              "      <td>47</td>\n",
              "      <td>5.0</td>\n",
              "    </tr>\n",
              "    <tr>\n",
              "      <th>4</th>\n",
              "      <td>1</td>\n",
              "      <td>50</td>\n",
              "      <td>5.0</td>\n",
              "    </tr>\n",
              "    <tr>\n",
              "      <th>...</th>\n",
              "      <td>...</td>\n",
              "      <td>...</td>\n",
              "      <td>...</td>\n",
              "    </tr>\n",
              "    <tr>\n",
              "      <th>100831</th>\n",
              "      <td>610</td>\n",
              "      <td>166534</td>\n",
              "      <td>4.0</td>\n",
              "    </tr>\n",
              "    <tr>\n",
              "      <th>100832</th>\n",
              "      <td>610</td>\n",
              "      <td>168248</td>\n",
              "      <td>5.0</td>\n",
              "    </tr>\n",
              "    <tr>\n",
              "      <th>100833</th>\n",
              "      <td>610</td>\n",
              "      <td>168250</td>\n",
              "      <td>5.0</td>\n",
              "    </tr>\n",
              "    <tr>\n",
              "      <th>100834</th>\n",
              "      <td>610</td>\n",
              "      <td>168252</td>\n",
              "      <td>5.0</td>\n",
              "    </tr>\n",
              "    <tr>\n",
              "      <th>100835</th>\n",
              "      <td>610</td>\n",
              "      <td>170875</td>\n",
              "      <td>3.0</td>\n",
              "    </tr>\n",
              "  </tbody>\n",
              "</table>\n",
              "<p>100836 rows × 3 columns</p>\n",
              "</div>"
            ],
            "text/plain": [
              "        userId  movieId  rating\n",
              "0            1        1     4.0\n",
              "1            1        3     4.0\n",
              "2            1        6     4.0\n",
              "3            1       47     5.0\n",
              "4            1       50     5.0\n",
              "...        ...      ...     ...\n",
              "100831     610   166534     4.0\n",
              "100832     610   168248     5.0\n",
              "100833     610   168250     5.0\n",
              "100834     610   168252     5.0\n",
              "100835     610   170875     3.0\n",
              "\n",
              "[100836 rows x 3 columns]"
            ]
          },
          "metadata": {
            "tags": []
          },
          "execution_count": 3
        }
      ]
    },
    {
      "cell_type": "code",
      "metadata": {
        "colab": {
          "base_uri": "https://localhost:8080/"
        },
        "id": "1P3ekHk8EkV-",
        "outputId": "f0e7f552-08bb-4fd0-a95d-3029c71242f2"
      },
      "source": [
        "Movie = data[\"movieId\"]\n",
        "maxmovie = Movie.max()\n",
        "User = data[\"userId\"]\n",
        "maxuser = User.max()\n",
        "rating = data[\"rating\"]\n",
        "num_movieid = len(pd.unique(data['movieId']))\n",
        "uniquemid = list(dict.fromkeys(Movie))\n",
        "Mid = [uniquemid.index(id) for id in Movie]\n",
        "data['Mid'] = Mid\n",
        "print(maxuser)\n",
        "print(maxmovie)\n",
        "print(num_movieid)\n"
      ],
      "execution_count": 4,
      "outputs": [
        {
          "output_type": "stream",
          "text": [
            "610\n",
            "193609\n",
            "9724\n"
          ],
          "name": "stdout"
        }
      ]
    },
    {
      "cell_type": "code",
      "metadata": {
        "id": "G2AXsL14CMaa"
      },
      "source": [
        "M = np.zeros((maxuser, num_movieid)) "
      ],
      "execution_count": 5,
      "outputs": []
    },
    {
      "cell_type": "code",
      "metadata": {
        "id": "EFzj1HuJEW0v"
      },
      "source": [
        "#df = [[0 for x in range(maxmovie)] for y in range(maxuser)]\n",
        "#for index in range(100836):\n",
        "#  x=User[index]-1\n",
        "#  y=Movie[index]-1\n",
        "#  c =rating[index]\n",
        "#  df[x][y] += c\n",
        "# a =  np.argwhere(np.all(df[..., :] == 0, axis=0))\n",
        "# M = np.delete(df, a, axis=1)\n",
        "#M = pd.DataFrame(df)\n",
        "#M = M.loc[:, (M != 0).any(axis=0)]\n",
        "#M = df\n",
        "#M.shape"
      ],
      "execution_count": 6,
      "outputs": []
    },
    {
      "cell_type": "code",
      "metadata": {
        "colab": {
          "base_uri": "https://localhost:8080/"
        },
        "id": "32NOlXr3Mk6x",
        "outputId": "25bd0c9e-2bb6-45c2-d534-9999f3ae87ea"
      },
      "source": [
        "for row in data.iterrows():\n",
        "  M[int(row[1]['userId'] -1)][int(row[1]['Mid'])] = row[1]['rating']\n",
        "M"
      ],
      "execution_count": 7,
      "outputs": [
        {
          "output_type": "execute_result",
          "data": {
            "text/plain": [
              "array([[4. , 4. , 4. , ..., 0. , 0. , 0. ],\n",
              "       [0. , 0. , 0. , ..., 0. , 0. , 0. ],\n",
              "       [0. , 0. , 0. , ..., 0. , 0. , 0. ],\n",
              "       ...,\n",
              "       [2.5, 2. , 0. , ..., 0. , 0. , 0. ],\n",
              "       [3. , 0. , 0. , ..., 0. , 0. , 0. ],\n",
              "       [5. , 0. , 5. , ..., 3. , 3.5, 3.5]])"
            ]
          },
          "metadata": {
            "tags": []
          },
          "execution_count": 7
        }
      ]
    },
    {
      "cell_type": "code",
      "metadata": {
        "colab": {
          "base_uri": "https://localhost:8080/"
        },
        "id": "NLa_lif5I-dy",
        "outputId": "e6759cf0-309b-429e-ac7a-b97a23389590"
      },
      "source": [
        "rowindex, colindex = [], []\n",
        "for i in range(maxuser):\n",
        "  for j in range(len(M[0])):\n",
        "    if M[i][j] != 0 :\n",
        "      rowindex.append(i)\n",
        "      colindex.append(j)\n",
        "\n",
        "omega = np.vstack((rowindex, colindex)).T\n",
        "print(omega.shape)\n",
        "omega"
      ],
      "execution_count": 8,
      "outputs": [
        {
          "output_type": "stream",
          "text": [
            "(100836, 2)\n"
          ],
          "name": "stdout"
        },
        {
          "output_type": "execute_result",
          "data": {
            "text/plain": [
              "array([[   0,    0],\n",
              "       [   0,    1],\n",
              "       [   0,    2],\n",
              "       ...,\n",
              "       [ 609, 9721],\n",
              "       [ 609, 9722],\n",
              "       [ 609, 9723]])"
            ]
          },
          "metadata": {
            "tags": []
          },
          "execution_count": 8
        }
      ]
    },
    {
      "cell_type": "code",
      "metadata": {
        "colab": {
          "base_uri": "https://localhost:8080/"
        },
        "id": "BPi7TdpBV2nc",
        "outputId": "719476c2-4863-4d7c-f7f4-f347d0265bb0"
      },
      "source": [
        "omega1, omega2 = train_test_split(omega, test_size = 0.1, random_state = 42)\n",
        "print(omega1.shape)\n",
        "print(omega2.shape)"
      ],
      "execution_count": 9,
      "outputs": [
        {
          "output_type": "stream",
          "text": [
            "(90752, 2)\n",
            "(10084, 2)\n"
          ],
          "name": "stdout"
        }
      ]
    },
    {
      "cell_type": "markdown",
      "metadata": {
        "id": "mwTJ90om_PVn"
      },
      "source": [
        "#### Normalizing the rating matrix such that all the ratings are between 0 and 1. "
      ]
    },
    {
      "cell_type": "code",
      "metadata": {
        "colab": {
          "base_uri": "https://localhost:8080/"
        },
        "id": "5LpIjsVo2it2",
        "outputId": "1d7ecf9f-0779-4919-fc58-0bb0dbf0c914"
      },
      "source": [
        "Mmax, Mmin = M.max(), M.min()\n",
        "M = (M - Mmin)/(Mmax-Mmin)\n",
        "M"
      ],
      "execution_count": 10,
      "outputs": [
        {
          "output_type": "execute_result",
          "data": {
            "text/plain": [
              "array([[0.8, 0.8, 0.8, ..., 0. , 0. , 0. ],\n",
              "       [0. , 0. , 0. , ..., 0. , 0. , 0. ],\n",
              "       [0. , 0. , 0. , ..., 0. , 0. , 0. ],\n",
              "       ...,\n",
              "       [0.5, 0.4, 0. , ..., 0. , 0. , 0. ],\n",
              "       [0.6, 0. , 0. , ..., 0. , 0. , 0. ],\n",
              "       [1. , 0. , 1. , ..., 0.6, 0.7, 0.7]])"
            ]
          },
          "metadata": {
            "tags": []
          },
          "execution_count": 10
        }
      ]
    },
    {
      "cell_type": "markdown",
      "metadata": {
        "id": "oyIOtcy4YVbF"
      },
      "source": [
        "# 2. Learning"
      ]
    },
    {
      "cell_type": "markdown",
      "metadata": {
        "id": "kZX4knIGYe9b"
      },
      "source": [
        "###1) Initializing U and V matrices "
      ]
    },
    {
      "cell_type": "code",
      "metadata": {
        "colab": {
          "base_uri": "https://localhost:8080/"
        },
        "id": "VwoLxUTf_c3W",
        "outputId": "aacd8683-0753-4c38-a94f-e9df6d70c21c"
      },
      "source": [
        "d = 5\n",
        "UI = np.random.randn(maxuser, d)\n",
        "VI = np.random.randn(num_movieid,d)\n",
        "print(UI)\n",
        "print(VI)"
      ],
      "execution_count": 11,
      "outputs": [
        {
          "output_type": "stream",
          "text": [
            "[[-0.82849238 -0.39418375 -0.09636466  0.07081572 -0.26335394]\n",
            " [ 0.06767852  0.05852588 -1.8853518   0.29927526 -2.47288559]\n",
            " [ 0.37884343  0.3169231  -0.32332065  1.6555247  -1.08788258]\n",
            " ...\n",
            " [ 0.22460532  1.10493953  0.45104567 -0.89057827  0.46247837]\n",
            " [-0.94168167 -0.28509781  0.15071026  0.59063832 -0.2932407 ]\n",
            " [ 1.12073996  0.35169916 -0.620418   -0.73307331 -0.46432905]]\n",
            "[[-0.34846693  2.6254266   0.11829188 -0.58962568  0.61582098]\n",
            " [-1.20201437 -0.61254466  0.9881364  -0.69625752 -1.01051547]\n",
            " [ 0.87592279 -0.15636844  0.05837885 -1.49471609 -1.75435501]\n",
            " ...\n",
            " [-1.31696784 -0.37986265 -0.45684062 -0.02934509 -0.55311104]\n",
            " [ 1.18770606 -1.09240234 -0.67398707  0.2511213   1.20167115]\n",
            " [-0.51322347 -0.28789964  0.35838468  1.3976983   1.25467457]]\n"
          ],
          "name": "stdout"
        }
      ]
    },
    {
      "cell_type": "markdown",
      "metadata": {
        "id": "NJJ1F0o6ZInO"
      },
      "source": [
        "### 2) Deriving gradient for F(U,V) with respect to U<sub>i</sub> and V<sub>j</sub>"
      ]
    },
    {
      "cell_type": "code",
      "metadata": {
        "id": "8naxwSxSYDjk"
      },
      "source": [
        "def gradu(u,v,l,M):\n",
        "  vt = np.transpose(v)\n",
        "  prod_uv = np.dot(u,vt)\n",
        "  x = np.subtract(prod_uv,M)\n",
        "  prod_vx = np.dot(x,v)\n",
        "  sum = np.add(prod_vx, (l*u))\n",
        "  return sum\n",
        "\n",
        "def gradv(u,v,l,M):\n",
        "  ut = np.transpose(u)\n",
        "  prod_uv = np.dot(v,ut)\n",
        "  mt = np.transpose(M)\n",
        "  x = np.subtract(prod_uv,mt)\n",
        "  prod_ux = np.dot(x,u)\n",
        "  sum = np.add(prod_ux, (l*v))\n",
        "  return sum"
      ],
      "execution_count": 12,
      "outputs": []
    },
    {
      "cell_type": "markdown",
      "metadata": {
        "id": "dwWMTFS8fexV"
      },
      "source": [
        "### 3) Updating GD with a carefully chosen learning rate. "
      ]
    },
    {
      "cell_type": "code",
      "metadata": {
        "colab": {
          "base_uri": "https://localhost:8080/"
        },
        "id": "CalnWGiDWp1z",
        "outputId": "b7d09be3-45a0-4ea1-e8e8-119d98576208"
      },
      "source": [
        "learning_rate = 0.00001\n",
        "iterations = 100\n",
        "Finalu =[]\n",
        "Finalv =[]\n",
        "lambd = 1\n",
        "U = UI\n",
        "V = VI\n",
        "for i in range(iterations):\n",
        "  U = U - (learning_rate * gradu(U, V, lambd, M))\n",
        "  V = V - (learning_rate * gradv(U, V, lambd, M))\n",
        "  Finalu.append(U)\n",
        "  Finalv.append(V)\n",
        "\n",
        "print(np.shape(Finalu))\n",
        "print(np.shape(Finalv))"
      ],
      "execution_count": 13,
      "outputs": [
        {
          "output_type": "stream",
          "text": [
            "(100, 610, 5)\n",
            "(100, 9724, 5)\n"
          ],
          "name": "stdout"
        }
      ]
    },
    {
      "cell_type": "markdown",
      "metadata": {
        "id": "hjFf2yrkfs2h"
      },
      "source": [
        "### 4) Calculation of the objective function. \n",
        "![image.png](data:image/png;base64,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)"
      ]
    },
    {
      "cell_type": "code",
      "metadata": {
        "colab": {
          "base_uri": "https://localhost:8080/"
        },
        "id": "Au5Cc1TddWP1",
        "outputId": "a6d4419d-3ac2-4fc4-91ed-42e249e4c1d8"
      },
      "source": [
        "objectivefunc = []\n",
        "sum = []\n",
        "unorm = []\n",
        "vnorm = []\n",
        "for i in range(iterations):\n",
        "  sum1 = 0\n",
        "  for k,j in omega1:\n",
        "    vt = np.transpose(Finalv[i][j])\n",
        "    prod_uv = np.dot(Finalu[i][k], vt)\n",
        "    sum1+= math.pow((M[k][j] - prod_uv),2)\n",
        "  sum.append(sum1)\n",
        "  un =  math.pow(np.linalg.norm(Finalu[i], ord='fro'),2)\n",
        "  vn = math.pow(np.linalg.norm(Finalv[i], ord='fro'),2)\n",
        "  unorm.append(un)\n",
        "  vnorm.append(vn)\n",
        "  x = (1/2 * sum[i]) + (lambd/2)*(unorm[i] + vnorm[i])\n",
        "  objectivefunc.append(x)\n",
        "\n",
        "print(np.shape(objectivefunc))"
      ],
      "execution_count": 14,
      "outputs": [
        {
          "output_type": "stream",
          "text": [
            "(100,)\n"
          ],
          "name": "stdout"
        }
      ]
    },
    {
      "cell_type": "markdown",
      "metadata": {
        "id": "vReQVlP1fzV1"
      },
      "source": [
        "### 5) Plotting objective function against number of iterations"
      ]
    },
    {
      "cell_type": "code",
      "metadata": {
        "colab": {
          "base_uri": "https://localhost:8080/",
          "height": 265
        },
        "id": "ze4P5-3vljh4",
        "outputId": "f8afc865-ca4c-449c-e76f-d9bea12f590d"
      },
      "source": [
        "x = range(iterations)\n",
        "plt.plot(x, objectivefunc)\n",
        "plt.show()"
      ],
      "execution_count": 15,
      "outputs": [
        {
          "output_type": "display_data",
          "data": {
            "image/png": "[encoded data removed]",
            "text/plain": [
              "<Figure size 432x288 with 1 Axes>"
            ]
          },
          "metadata": {
            "tags": [],
            "needs_background": "light"
          }
        }
      ]
    },
    {
      "cell_type": "markdown",
      "metadata": {
        "id": "mMMggQGPjCeO"
      },
      "source": [
        "###The objective function converges through the iterations. However it can be seen that after 20 iterations the change is not much."
      ]
    },
    {
      "cell_type": "markdown",
      "metadata": {
        "id": "C6xOQ_5fmYFX"
      },
      "source": [
        "# 3. Evaluation"
      ]
    },
    {
      "cell_type": "markdown",
      "metadata": {
        "id": "I-Flpw9PmdOT"
      },
      "source": [
        "### 1) Calculating Prediction matrix X = UV<sup>T</sup>\n"
      ]
    },
    {
      "cell_type": "code",
      "metadata": {
        "id": "p4R1O2WJlqrQ"
      },
      "source": [
        "vt = np.transpose(Finalv[iterations-1])\n",
        "u = Finalu[iterations-1]\n",
        "X = np.dot(u,vt)"
      ],
      "execution_count": 16,
      "outputs": []
    },
    {
      "cell_type": "markdown",
      "metadata": {
        "id": "nUA-0g5no0K0"
      },
      "source": [
        "### 2) Evaluating the performance of prediction matric X using RMSE \n",
        "![image.png](data:image/png;base64,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)"
      ]
    },
    {
      "cell_type": "code",
      "metadata": {
        "colab": {
          "base_uri": "https://localhost:8080/"
        },
        "id": "Ho-xyzzSocg6",
        "outputId": "e16d94c3-a5f5-4f30-ae25-eb0205666de7"
      },
      "source": [
        "lenom2 = len(omega2)\n",
        "summation = 0\n",
        "for i,j in omega2:\n",
        "  summation+= math.pow((M[i][j] - X[i][j]),2)\n",
        "rmserror = math.sqrt((1/lenom2)*summation)\n",
        "rmserror\n"
      ],
      "execution_count": 17,
      "outputs": [
        {
          "output_type": "execute_result",
          "data": {
            "text/plain": [
              "0.7303074858820304"
            ]
          },
          "metadata": {
            "tags": []
          },
          "execution_count": 17
        }
      ]
    },
    {
      "cell_type": "markdown",
      "metadata": {
        "id": "3akVuv2gr1-_"
      },
      "source": [
        "#### RMSE is 0.7303 when lambda = 1."
      ]
    },
    {
      "cell_type": "markdown",
      "metadata": {
        "id": "RcY5lfRtwX31"
      },
      "source": [
        "### 3) Learning and evaluating model for different values of Lambda"
      ]
    },
    {
      "cell_type": "code",
      "metadata": {
        "id": "T5Jm3UocrAnz"
      },
      "source": [
        "obj = []\n",
        "rmse =[]\n",
        "lambdas = [10**-6, 10**-3, 0.1,0.5,2,5,10,20,50,100,500,1000]\n",
        "for lambd in lambdas:\n",
        "  U = UI\n",
        "  V = VI\n",
        "  for i in range(iterations):\n",
        "    U = U - (learning_rate * gradu(U, V, lambd, M))\n",
        "    V = V - (learning_rate * gradv(U, V, lambd, M))\n",
        "    sum1 = 0\n",
        "    for k,j in omega1:\n",
        "      vt = np.transpose(V[j])\n",
        "      prod_uv = np.dot(U[k], vt)\n",
        "      sum1+= math.pow((M[k][j] - prod_uv),2)  \n",
        "    un =  math.pow(np.linalg.norm(U, ord='fro'),2)\n",
        "    vn = math.pow(np.linalg.norm(V, ord='fro'),2)  \n",
        "    x = (1/2 * sum1) + (lambd/2)*(un + vn)\n",
        "    obj.append(x)\n",
        "  vt = np.transpose(V)\n",
        "  X = np.dot(U,vt)\n",
        "  summation = 0\n",
        "  for i,j in omega2:\n",
        "    summation+= math.pow((M[i][j] - X[i][j]),2)\n",
        "  rmserror = math.sqrt((1/lenom2)*summation)\n",
        "  rmse.append(rmserror)"
      ],
      "execution_count": 18,
      "outputs": []
    },
    {
      "cell_type": "markdown",
      "metadata": {
        "id": "kL5vNprCxB26"
      },
      "source": [
        "### 4) Plotting RMSE against different values of Lambda."
      ]
    },
    {
      "cell_type": "code",
      "metadata": {
        "colab": {
          "base_uri": "https://localhost:8080/",
          "height": 265
        },
        "id": "GrPmhB_Sv-KM",
        "outputId": "b7b77b62-43ac-447c-e7e3-476545fb5c4c"
      },
      "source": [
        "plt.plot(lambdas,rmse)\n",
        "plt.show() "
      ],
      "execution_count": 19,
      "outputs": [
        {
          "output_type": "display_data",
          "data": {
            "image/png": "[encoded data removed]",
            "text/plain": [
              "<Figure size 432x288 with 1 Axes>"
            ]
          },
          "metadata": {
            "tags": [],
            "needs_background": "light"
          }
        }
      ]
    },
    {
      "cell_type": "markdown",
      "metadata": {
        "id": "u0oQDBBmjTgU"
      },
      "source": [
        "#### From the above plot it can be seen that RMSE increases with the increase in the value of lambda. "
      ]
    }
  ]
}